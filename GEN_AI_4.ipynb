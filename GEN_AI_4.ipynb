{
  "nbformat": 4,
  "nbformat_minor": 0,
  "metadata": {
    "colab": {
      "provenance": [],
      "authorship_tag": "ABX9TyO4rTu1f7xnnqenZ43h5Ken",
      "include_colab_link": true
    },
    "kernelspec": {
      "name": "python3",
      "display_name": "Python 3"
    },
    "language_info": {
      "name": "python"
    }
  },
  "cells": [
    {
      "cell_type": "markdown",
      "metadata": {
        "id": "view-in-github",
        "colab_type": "text"
      },
      "source": [
        "<a href=\"https://colab.research.google.com/github/2303a52223/GenAI_2303A52223/blob/main/GEN_AI_4.ipynb\" target=\"_parent\"><img src=\"https://colab.research.google.com/assets/colab-badge.svg\" alt=\"Open In Colab\"/></a>"
      ]
    },
    {
      "cell_type": "markdown",
      "source": [
        "Question 1\n",
        "\n",
        "\n",
        "Design a simple ANN architecture with one input and one output layer (no hidden layer). Assume a linear activation function in the output layer. • Write Python code for a backpropagation algorithm with gradient descent optimization to update weights and bias parameters of the ANN model with training data shown in Table\n",
        "\n",
        "\n",
        "• Calculate the mean square error with training and testing data shown in Table 2. • Write Python code that reads the input data [x1, x2, and x3] from the user. Predict the output with deployed ANN model"
      ],
      "metadata": {
        "id": "uxW72Fpu9AIh"
      }
    },
    {
      "cell_type": "code",
      "execution_count": null,
      "metadata": {
        "colab": {
          "base_uri": "https://localhost:8080/"
        },
        "id": "4tn8Zm6w87qu",
        "outputId": "25150fc3-2f5e-499f-b5bb-082133b0f365"
      },
      "outputs": [
        {
          "output_type": "stream",
          "name": "stdout",
          "text": [
            "Training MSE: 0.00024803405644738274\n",
            "Testing MSE: 8.746344967704876e-06\n",
            "Enter x1: 0.6\n",
            "Enter x2: 0.7\n",
            "Enter x3: 0.8\n",
            "Predicted Output: 0.44147497051532425\n"
          ]
        }
      ],
      "source": [
        "import numpy as np\n",
        "\n",
        "w1, w2, w3, b = np.random.rand(4)\n",
        "\n",
        "alpha = 0.01\n",
        "\n",
        "epochs = 1000\n",
        "\n",
        "training_data = [\n",
        "    (0.1, 0.2, 0.3, 0.14),\n",
        "    (0.2, 0.3, 0.4, 0.20),\n",
        "    (0.3, 0.4, 0.5, 0.26),\n",
        "    (0.5, 0.6, 0.7, 0.38),\n",
        "    (0.1, 0.3, 0.5, 0.22),\n",
        "    (0.2, 0.4, 0.6, 0.28),\n",
        "    (0.3, 0.5, 0.7, 0.34),\n",
        "    (0.4, 0.6, 0.8, 0.40),\n",
        "    (0.5, 0.7, 0.1, 0.22)\n",
        "]\n",
        "\n",
        "testing_data = [\n",
        "    (0.6, 0.7, 0.8, 0.44),\n",
        "    (0.7, 0.8, 0.9, 0.50)\n",
        "]\n",
        "\n",
        "def train():\n",
        "    global w1, w2, w3, b\n",
        "    for _ in range(epochs):\n",
        "        dw1, dw2, dw3, db = 0, 0, 0, 0\n",
        "        for x1, x2, x3, y_true in training_data:\n",
        "            y_pred = w1 * x1 + w2 * x2 + w3 * x3 + b\n",
        "            error = y_pred - y_true\n",
        "            dw1 += error * x1\n",
        "            dw2 += error * x2\n",
        "            dw3 += error * x3\n",
        "            db += error\n",
        "\n",
        "        w1 -= alpha * dw1 / len(training_data)\n",
        "        w2 -= alpha * dw2 / len(training_data)\n",
        "        w3 -= alpha * dw3 / len(training_data)\n",
        "        b -= alpha * db / len(training_data)\n",
        "\n",
        "\n",
        "def mse(data):\n",
        "    total_error = 0\n",
        "    for x1, x2, x3, y_true in data:\n",
        "        y_pred = w1 * x1 + w2 * x2 + w3 * x3 + b\n",
        "        total_error += (y_pred - y_true) ** 2\n",
        "    return total_error / len(data)\n",
        "\n",
        "train()\n",
        "\n",
        "train_mse = mse(training_data)\n",
        "test_mse = mse(testing_data)\n",
        "print(f\"Training MSE: {train_mse}\")\n",
        "print(f\"Testing MSE: {test_mse}\")\n",
        "\n",
        "def predict(x1, x2, x3):\n",
        "    return w1 * x1 + w2 * x2 + w3 * x3 + b\n",
        "\n",
        "x1 = float(input(\"Enter x1: \"))\n",
        "x2 = float(input(\"Enter x2: \"))\n",
        "x3 = float(input(\"Enter x3: \"))\n",
        "predicted_output = predict(x1, x2, x3)\n",
        "print(f\"Predicted Output: {predicted_output}\")"
      ]
    },
    {
      "cell_type": "markdown",
      "source": [
        "# **Question 2**\n",
        "\n",
        " Design a simple ANN architecture with one input and one output layer (no hidden\n",
        "layer). Assume a sigmoid activation function shown in the equation 1 in the output layer.\n",
        "f (x) = 1\n",
        "1 + e−x (1)\n",
        "• Write Python code for a backpropagation algorithm with gradient descent optimization to\n",
        "update weights and bias parameters of the ANN model with training data shown in Table\n",
        "3."
      ],
      "metadata": {
        "id": "WjtL0WcBDXwV"
      }
    },
    {
      "cell_type": "code",
      "source": [
        "import numpy as np\n",
        "\n",
        "def sigmoid(x):\n",
        "    return 1 / (1 + np.exp(-x))\n",
        "\n",
        "def sigmoid_derivative(x):\n",
        "    return x * (1 - x)\n",
        "\n",
        "def mean_squared_error(y_true, y_pred):\n",
        "    return np.mean((y_true - y_pred) ** 2)\n",
        "\n",
        "def train_ann(X, y, learning_rate=0.1, epochs=1000):\n",
        "    np.random.seed(42)\n",
        "    weights = np.random.rand(X.shape[1])\n",
        "    bias = np.random.rand()\n",
        "\n",
        "    for _ in range(epochs):\n",
        "        linear_output = np.dot(X, weights) + bias\n",
        "        y_pred = sigmoid(linear_output)\n",
        "\n",
        "        error = y - y_pred\n",
        "\n",
        "        d_weights = np.dot(X.T, error * sigmoid_derivative(y_pred))\n",
        "        d_bias = np.sum(error * sigmoid_derivative(y_pred))\n",
        "\n",
        "        weights += learning_rate * d_weights\n",
        "        bias += learning_rate * d_bias\n",
        "\n",
        "    return weights, bias\n",
        "\n",
        "def predict(X, weights, bias):\n",
        "    return sigmoid(np.dot(X, weights) + bias)\n",
        "\n",
        "X_train = np.array([\n",
        "    [0.1, 0.2, 0.3],\n",
        "    [0.2, 0.3, 0.4],\n",
        "    [0.3, 0.4, 0.5],\n",
        "    [0.5, 0.6, 0.7],\n",
        "    [0.1, 0.3, 0.5],\n",
        "    [0.2, 0.4, 0.6],\n",
        "    [0.3, 0.5, 0.7],\n",
        "    [0.4, 0.6, 0.8],\n",
        "    [0.5, 0.7, 0.1]\n",
        "])\n",
        "y_train = np.array([0.5349, 0.5498, 0.5646, 0.5939, 0.5548, 0.5695, 0.5842, 0.5987, 0.5548])\n",
        "\n",
        "weights, bias = train_ann(X_train, y_train)\n",
        "\n",
        "X_test = np.array([\n",
        "    [0.6, 0.7, 0.8],\n",
        "    [0.7, 0.8, 0.9]\n",
        "])\n",
        "y_test = np.array([0.6083, 0.6225])\n",
        "\n",
        "y_pred_test = predict(X_test, weights, bias)\n",
        "\n",
        "train_mse = mean_squared_error(y_train, predict(X_train, weights, bias))\n",
        "test_mse = mean_squared_error(y_test, y_pred_test)\n",
        "\n",
        "print(f\"Training MSE: {train_mse}\")\n",
        "print(f\"Testing MSE: {test_mse}\")\n",
        "\n",
        "x_input = np.array([float(i) for i in input(\"Enter three values separated by spaces: \").split()]).reshape(1, -1)\n",
        "user_prediction = predict(x_input, weights, bias)\n",
        "print(f\"Predicted output: {user_prediction[0]}\")\n"
      ],
      "metadata": {
        "colab": {
          "base_uri": "https://localhost:8080/"
        },
        "id": "kFyo_sRe92Jp",
        "outputId": "a849eec0-5549-4400-d671-cabb105e8467"
      },
      "execution_count": null,
      "outputs": [
        {
          "output_type": "stream",
          "name": "stdout",
          "text": [
            "Training MSE: 1.0950729480152149e-05\n",
            "Testing MSE: 7.289121589629698e-06\n",
            "Enter three values separated by spaces: 0.6 0.7 0.8\n",
            "Predicted output: 0.6101649772027722\n"
          ]
        }
      ]
    }
  ]
}